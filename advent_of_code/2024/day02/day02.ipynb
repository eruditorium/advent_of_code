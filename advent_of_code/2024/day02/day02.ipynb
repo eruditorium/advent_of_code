{
 "cells": [
  {
   "cell_type": "markdown",
   "metadata": {},
   "source": [
    "# Advent of code - Day02\n"
   ]
  },
  {
   "cell_type": "code",
   "execution_count": null,
   "metadata": {},
   "outputs": [],
   "source": []
  },
  {
   "cell_type": "code",
   "execution_count": 27,
   "metadata": {},
   "outputs": [],
   "source": [
    "import sys"
   ]
  },
  {
   "cell_type": "code",
   "execution_count": 28,
   "metadata": {},
   "outputs": [],
   "source": [
    "list = []\n",
    "with open('input.txt', 'r') as f:\n",
    "    for line in f:\n",
    "        list.append([int(x) for x in line.split()])"
   ]
  },
  {
   "cell_type": "code",
   "execution_count": 29,
   "metadata": {},
   "outputs": [
    {
     "data": {
      "text/plain": [
       "[[6, 8, 11, 12, 14, 16, 18, 16],\n",
       " [73, 76, 79, 80, 81, 84, 86, 86],\n",
       " [32, 33, 34, 37, 40, 44],\n",
       " [9, 11, 13, 14, 17, 24],\n",
       " [59, 61, 64, 62, 65],\n",
       " [33, 36, 37, 39, 36, 35],\n",
       " [60, 62, 64, 61, 62, 64, 64],\n",
       " [12, 15, 16, 15, 17, 18, 22],\n",
       " [72, 73, 75, 77, 79, 82, 79, 85],\n",
       " [60, 61, 64, 64, 67, 69]]"
      ]
     },
     "execution_count": 29,
     "metadata": {},
     "output_type": "execute_result"
    }
   ],
   "source": [
    "list[:10]"
   ]
  },
  {
   "cell_type": "markdown",
   "metadata": {},
   "source": [
    "## Part 1"
   ]
  },
  {
   "cell_type": "code",
   "execution_count": 30,
   "metadata": {},
   "outputs": [],
   "source": [
    "def is_safe(line):\n",
    "    distances = []\n",
    "\n",
    "    for i in range(len(line) - 1):\n",
    "        distances.append(int(line[i]) - int(line[i + 1]))\n",
    "\n",
    "    condition1 = (all(i > 0 for i in distances) or all(i < 0 for i in distances))\n",
    "    condition2 = (all(abs(i) >= 1 and abs(i) <= 3 for i in distances))\n",
    "\n",
    "    if condition1 and condition2:\n",
    "        return True\n",
    "\n",
    "    return False"
   ]
  },
  {
   "cell_type": "code",
   "execution_count": 31,
   "metadata": {},
   "outputs": [
    {
     "name": "stdout",
     "output_type": "stream",
     "text": [
      "Part 1: 442\n"
     ]
    }
   ],
   "source": [
    "part1 = 0\n",
    "unsafes = []\n",
    "\n",
    "for line in list:\n",
    "    if is_safe(line):\n",
    "        part1 += 1\n",
    "    else:\n",
    "        unsafes.append(line)\n",
    "\n",
    "print(\"Part 1: \" + str(part1))"
   ]
  },
  {
   "cell_type": "markdown",
   "metadata": {},
   "source": [
    "## Part 2"
   ]
  },
  {
   "cell_type": "code",
   "execution_count": 32,
   "metadata": {},
   "outputs": [
    {
     "name": "stdout",
     "output_type": "stream",
     "text": [
      "493\n"
     ]
    }
   ],
   "source": [
    "part2 = part1\n",
    "\n",
    "for line in unsafes:\n",
    "    for x in range(len(line)):\n",
    "        new_line = line.copy()\n",
    "        del new_line[x]\n",
    "\n",
    "        if is_safe(new_line):\n",
    "            part2 += 1\n",
    "            break\n",
    "\n",
    "print(part2)\n"
   ]
  }
 ],
 "metadata": {
  "kernelspec": {
   "display_name": "advent-of-code-6HA-RaRn-py3.12",
   "language": "python",
   "name": "python3"
  },
  "language_info": {
   "codemirror_mode": {
    "name": "ipython",
    "version": 3
   },
   "file_extension": ".py",
   "mimetype": "text/x-python",
   "name": "python",
   "nbconvert_exporter": "python",
   "pygments_lexer": "ipython3",
   "version": "3.12.7"
  }
 },
 "nbformat": 4,
 "nbformat_minor": 2
}
