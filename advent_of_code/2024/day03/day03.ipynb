{
 "cells": [
  {
   "cell_type": "markdown",
   "metadata": {},
   "source": [
    "# Advent of code - Day03"
   ]
  },
  {
   "cell_type": "code",
   "execution_count": 11,
   "metadata": {},
   "outputs": [],
   "source": [
    "import sys, re"
   ]
  },
  {
   "cell_type": "code",
   "execution_count": 12,
   "metadata": {},
   "outputs": [],
   "source": [
    "with open('input.txt', 'r') as f:\n",
    "    content = f.read()  # Read the file content as a string\n",
    "\n",
    "content = re.sub('\\r', '', content)"
   ]
  },
  {
   "cell_type": "markdown",
   "metadata": {},
   "source": [
    "## Part 1"
   ]
  },
  {
   "cell_type": "code",
   "execution_count": 13,
   "metadata": {},
   "outputs": [
    {
     "name": "stdout",
     "output_type": "stream",
     "text": [
      "Part 1: 183788984\n"
     ]
    }
   ],
   "source": [
    "def mul(content):\n",
    "    list = re.findall(r\"mul\\(\\d+,\\d+\\)\", content)\n",
    "    sum = 0\n",
    "\n",
    "    pattern = r\"mul\\((?P<num1>\\d+),(?P<num2>\\d+)\\)\"\n",
    "\n",
    "    for mul in list:\n",
    "        match = re.match(pattern, mul)\n",
    "\n",
    "        if match:\n",
    "            num1 = int(match.group(\"num1\"))\n",
    "            num2 = int(match.group(\"num2\"))\n",
    "            sum += num1 * num2\n",
    "\n",
    "    return sum\n",
    "\n",
    "print(f\"Part 1: {mul(content)}\")"
   ]
  },
  {
   "cell_type": "markdown",
   "metadata": {},
   "source": [
    "## Part 2"
   ]
  },
  {
   "cell_type": "code",
   "execution_count": 14,
   "metadata": {},
   "outputs": [
    {
     "name": "stdout",
     "output_type": "stream",
     "text": [
      "Part 2: 62098619\n"
     ]
    }
   ],
   "source": [
    "new_content = re.sub(r\"don't\\(\\).*?(?:$|do\\(\\))\", '', content, flags=re.DOTALL)\n",
    "\n",
    "\n",
    "print(f\"Part 2: {mul(new_content)}\")"
   ]
  }
 ],
 "metadata": {
  "kernelspec": {
   "display_name": "advent-of-code-6HA-RaRn-py3.12",
   "language": "python",
   "name": "python3"
  },
  "language_info": {
   "codemirror_mode": {
    "name": "ipython",
    "version": 3
   },
   "file_extension": ".py",
   "mimetype": "text/x-python",
   "name": "python",
   "nbconvert_exporter": "python",
   "pygments_lexer": "ipython3",
   "version": "3.12.7"
  }
 },
 "nbformat": 4,
 "nbformat_minor": 2
}
